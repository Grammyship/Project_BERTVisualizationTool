{
 "cells": [
  {
   "cell_type": "code",
   "execution_count": 98,
   "metadata": {},
   "outputs": [],
   "source": [
    "import re, numpy as np, pandas as pd\n",
    "from transformers import BertTokenizer, BertPreTrainedModel, BertModel,BertConfig,BertForTokenClassification\n",
    "from transformers.modeling_outputs import TokenClassifierOutput\n",
    "from torch import nn\n",
    "import torch\n",
    "import matplotlib.pyplot as plt\n",
    "import math"
   ]
  },
  {
   "cell_type": "code",
   "execution_count": 2,
   "metadata": {},
   "outputs": [],
   "source": [
    "class BertForTokenClassification(BertPreTrainedModel):\n",
    "    \n",
    "    _keys_to_ignore_on_load_unexpected = [r\"pooler\"]\n",
    "\n",
    "    def __init__(self, config):\n",
    "        super().__init__(config)\n",
    "        self.num_labels = config.num_labels\n",
    "\n",
    "        self.bert = BertModel(config, add_pooling_layer=False)\n",
    "        self.dropout = nn.Dropout(config.hidden_dropout_prob)\n",
    "        self.classifier = nn.Linear(config.hidden_size, config.num_labels)\n",
    "\n",
    "        self.init_weights()\n",
    "\n",
    "    def forward(\n",
    "        self,\n",
    "        input_ids=None,\n",
    "        attention_mask=None,\n",
    "        token_type_ids=None,\n",
    "        position_ids=None,\n",
    "        head_mask=None,\n",
    "        inputs_embeds=None,\n",
    "        labels=None,\n",
    "        output_attentions=None,\n",
    "        output_hidden_states=True,\n",
    "        return_dict=None,\n",
    "    ):\n",
    "    \n",
    "        return_dict = return_dict if return_dict is not None else self.config.use_return_dict\n",
    "\n",
    "        outputs = self.bert(\n",
    "            input_ids,\n",
    "            attention_mask=attention_mask,\n",
    "            token_type_ids=token_type_ids,\n",
    "            position_ids=position_ids,\n",
    "            head_mask=head_mask,\n",
    "            inputs_embeds=inputs_embeds,\n",
    "            output_attentions=output_attentions,\n",
    "            output_hidden_states=output_hidden_states,\n",
    "            return_dict=return_dict,\n",
    "        )\n",
    "\n",
    "        sequence_output = outputs[0]\n",
    "\n",
    "        sequence_output = self.dropout(sequence_output)\n",
    "        logits = self.classifier(sequence_output)\n",
    "\n",
    "        loss = None\n",
    "        if labels is not None:\n",
    "            loss_fct = nn.CrossEntropyLoss()\n",
    "            # Only keep active parts of the loss\n",
    "            if attention_mask is not None:\n",
    "                active_loss = attention_mask.view(-1) == 1\n",
    "                active_logits = logits.view(-1, self.num_labels)\n",
    "                active_labels = torch.where(\n",
    "                    active_loss, labels.view(-1), torch.tensor(loss_fct.ignore_index).type_as(labels)\n",
    "                )\n",
    "                loss = loss_fct(active_logits, active_labels)\n",
    "            else:\n",
    "                loss = loss_fct(logits.view(-1, self.num_labels), labels.view(-1))\n",
    "\n",
    "        if not return_dict:\n",
    "            output = (logits,) + outputs[2:]\n",
    "            return ((loss,) + output) if loss is not None else output\n",
    "\n",
    "        return TokenClassifierOutput(\n",
    "            loss=loss,\n",
    "            logits=logits,\n",
    "            hidden_states=outputs.hidden_states,\n",
    "            attentions=outputs.attentions,\n",
    "        )\n",
    "\n",
    "\n",
    "\n"
   ]
  },
  {
   "cell_type": "code",
   "execution_count": 3,
   "metadata": {},
   "outputs": [],
   "source": [
    "tag2idx ={'B-art': 0, 'B-eve': 1, 'B-geo': 2, 'B-gpe': 3, 'B-nat': 4, 'B-org': 5, 'B-per': 6, 'B-tim': 7, 'I-art': 8, 'I-eve': 9, 'I-geo': 10, 'I-gpe': 11, 'I-nat': 12, \n",
    "'I-org': 13, 'I-per': 14, 'I-tim': 15, 'O': 16, 'PAD': 17}"
   ]
  },
  {
   "cell_type": "code",
   "execution_count": 4,
   "metadata": {},
   "outputs": [
    {
     "name": "stderr",
     "output_type": "stream",
     "text": [
      "Some weights of the model checkpoint at bert-base-uncased were not used when initializing BertModel: ['cls.predictions.transform.dense.bias', 'cls.seq_relationship.bias', 'cls.predictions.transform.dense.weight', 'cls.predictions.bias', 'cls.predictions.transform.LayerNorm.weight', 'cls.seq_relationship.weight', 'cls.predictions.decoder.weight', 'cls.predictions.transform.LayerNorm.bias']\n",
      "- This IS expected if you are initializing BertModel from the checkpoint of a model trained on another task or with another architecture (e.g. initializing a BertForSequenceClassification model from a BertForPreTraining model).\n",
      "- This IS NOT expected if you are initializing BertModel from the checkpoint of a model that you expect to be exactly identical (initializing a BertForSequenceClassification model from a BertForSequenceClassification model).\n",
      "Some weights of the model checkpoint at bert-base-uncased were not used when initializing BertForTokenClassification: ['cls.predictions.transform.dense.bias', 'cls.seq_relationship.bias', 'cls.predictions.transform.dense.weight', 'cls.predictions.bias', 'cls.predictions.transform.LayerNorm.weight', 'cls.seq_relationship.weight', 'cls.predictions.decoder.weight', 'cls.predictions.transform.LayerNorm.bias']\n",
      "- This IS expected if you are initializing BertForTokenClassification from the checkpoint of a model trained on another task or with another architecture (e.g. initializing a BertForSequenceClassification model from a BertForPreTraining model).\n",
      "- This IS NOT expected if you are initializing BertForTokenClassification from the checkpoint of a model that you expect to be exactly identical (initializing a BertForSequenceClassification model from a BertForSequenceClassification model).\n",
      "Some weights of BertForTokenClassification were not initialized from the model checkpoint at bert-base-uncased and are newly initialized: ['classifier.weight', 'classifier.bias']\n",
      "You should probably TRAIN this model on a down-stream task to be able to use it for predictions and inference.\n"
     ]
    }
   ],
   "source": [
    "config = BertConfig.from_pretrained(\"bert-base-uncased\", output_hidden_states=True,input_ids=True,output_attentions=True)\n",
    "model = BertModel.from_pretrained('bert-base-uncased',config=config) #pre-trained\n",
    "#NER \n",
    "model_token =  BertForTokenClassification.from_pretrained(\n",
    "    \"bert-base-uncased\",num_labels=len(tag2idx))\n",
    "model_token = torch.load('NER2', map_location={'cuda:0': 'cpu'})"
   ]
  },
  {
   "cell_type": "code",
   "execution_count": 5,
   "metadata": {},
   "outputs": [],
   "source": [
    "# how many data we use\n",
    "data_count = 10\n",
    "\n",
    "# read the sentiment sample\n",
    "sentiment_train = pd.read_csv(\"attention1.csv\")\n",
    "\n",
    "# extract the 'sentiment' column to compare what's different between 0(negative) and 1(positive)\n",
    "sentiment_class = sentiment_train.loc[0:data_count,\"sentiment\"]\n"
   ]
  },
  {
   "cell_type": "code",
   "execution_count": 6,
   "metadata": {},
   "outputs": [],
   "source": [
    "# put the first 10 samples into tokenizer\n",
    "tokenizer_base = BertTokenizer.from_pretrained('bert-base-uncased')\n",
    "inputs_base = [0]*data_count\n",
    "outputs_base = [0]*data_count\n",
    "\n",
    "for i in range(data_count):\n",
    "    text = str(sentiment_train.loc[i,'Sentiment'])\n",
    "    inputs_base[i] = tokenizer_base(text, return_tensors=\"pt\")\n",
    "    outputs_base[i] = model(**inputs_base[i])"
   ]
  },
  {
   "cell_type": "code",
   "execution_count": 64,
   "metadata": {},
   "outputs": [
    {
     "data": {
      "text/plain": [
       "torch.Size([1, 12, 345, 345])"
      ]
     },
     "execution_count": 64,
     "metadata": {},
     "output_type": "execute_result"
    }
   ],
   "source": [
    "# outputs[i]     -> the i-th data i get\n",
    "#        [0~3]   -> 0:n個詞的vector, 1:attention的vector, 2: hidden的vector, 3:attention對於每一層中每個字和上一個字的分布情況\n",
    "#        [0~12]  -> 如果使用hidden和attention，則此層代表訓練模型中的第幾層\n",
    "#        [0]     -> batch count\n",
    "#        [0~n-1] -> 第幾個字\n",
    "#        [0~767] -> 第幾維詞向量\n",
    "\n",
    "# outputs[i][2][12][0][0]: 第i組data其第12層hidden state的[CLS]\n",
    "output_attention_base = [0]*data_count\n",
    "for i in range(data_count):\n",
    "    output_attention_base[i] = outputs_base[i].attentions\n",
    "output_attention_base[1][0].shape"
   ]
  },
  {
   "cell_type": "code",
   "execution_count": 75,
   "metadata": {},
   "outputs": [],
   "source": [
    "# base\n",
    "# attention_base[data][layer][length]\n",
    "attention_base = [0]*data_count\n",
    "\n",
    "for data in range(data_count):\n",
    "    count = output_attention_base[data][0][0][0][0].size(dim=0)\n",
    "    attention_base[data] = [0]*12\n",
    "    for layer in range(12):\n",
    "        attention_base[data][layer] = [0]*count\n",
    "        #for i in range(count):      # which word\n",
    "        for j in range(count):  # to which word\n",
    "            for k in range(12): # attention head\n",
    "                attention_base[data][layer][j] += output_attention_base[data][layer][0][k][count-1][j].item()\n",
    "            attention_base[data][layer][j] /= 12\n",
    "\n"
   ]
  },
  {
   "cell_type": "code",
   "execution_count": 79,
   "metadata": {},
   "outputs": [
    {
     "data": {
      "text/plain": [
       "12"
      ]
     },
     "execution_count": 79,
     "metadata": {},
     "output_type": "execute_result"
    }
   ],
   "source": [
    "len(attention_base[0])"
   ]
  },
  {
   "cell_type": "code",
   "execution_count": 80,
   "metadata": {},
   "outputs": [
    {
     "data": {
      "text/plain": [
       "207"
      ]
     },
     "execution_count": 80,
     "metadata": {},
     "output_type": "execute_result"
    }
   ],
   "source": [
    "len(attention_base[0][0])"
   ]
  },
  {
   "cell_type": "code",
   "execution_count": 9,
   "metadata": {},
   "outputs": [
    {
     "name": "stderr",
     "output_type": "stream",
     "text": [
      "Some weights of the model checkpoint at bert-large-uncased were not used when initializing BertModel: ['cls.predictions.transform.dense.bias', 'cls.seq_relationship.bias', 'cls.predictions.transform.dense.weight', 'cls.predictions.bias', 'cls.predictions.transform.LayerNorm.weight', 'cls.seq_relationship.weight', 'cls.predictions.decoder.weight', 'cls.predictions.transform.LayerNorm.bias']\n",
      "- This IS expected if you are initializing BertModel from the checkpoint of a model trained on another task or with another architecture (e.g. initializing a BertForSequenceClassification model from a BertForPreTraining model).\n",
      "- This IS NOT expected if you are initializing BertModel from the checkpoint of a model that you expect to be exactly identical (initializing a BertForSequenceClassification model from a BertForSequenceClassification model).\n",
      "Some weights of the model checkpoint at bert-large-uncased were not used when initializing BertForTokenClassification: ['cls.predictions.transform.dense.bias', 'cls.seq_relationship.bias', 'cls.predictions.transform.dense.weight', 'cls.predictions.bias', 'cls.predictions.transform.LayerNorm.weight', 'cls.seq_relationship.weight', 'cls.predictions.decoder.weight', 'cls.predictions.transform.LayerNorm.bias']\n",
      "- This IS expected if you are initializing BertForTokenClassification from the checkpoint of a model trained on another task or with another architecture (e.g. initializing a BertForSequenceClassification model from a BertForPreTraining model).\n",
      "- This IS NOT expected if you are initializing BertForTokenClassification from the checkpoint of a model that you expect to be exactly identical (initializing a BertForSequenceClassification model from a BertForSequenceClassification model).\n",
      "Some weights of BertForTokenClassification were not initialized from the model checkpoint at bert-large-uncased and are newly initialized: ['classifier.weight', 'classifier.bias']\n",
      "You should probably TRAIN this model on a down-stream task to be able to use it for predictions and inference.\n"
     ]
    }
   ],
   "source": [
    "config2 = BertConfig.from_pretrained(\"bert-large-uncased\", output_hidden_states=True,input_ids=True,output_attentions=True)\n",
    "model2 = BertModel.from_pretrained('bert-large-uncased',config=config2) #pre-trained\n",
    "#NER \n",
    "model2_token =  BertForTokenClassification.from_pretrained(\n",
    "    \"bert-large-uncased\",num_labels=len(tag2idx))\n",
    "model2_token = torch.load('NER2', map_location={'cuda:0': 'cpu'})"
   ]
  },
  {
   "cell_type": "code",
   "execution_count": 10,
   "metadata": {},
   "outputs": [],
   "source": [
    "# put the first 10 samples into tokenizer\n",
    "tokenizer_large = BertTokenizer.from_pretrained('bert-large-uncased')\n",
    "inputs_large = [0]*data_count\n",
    "outputs_large = [0]*data_count\n",
    "\n",
    "for i in range(data_count):\n",
    "    text = str(sentiment_train.loc[i,'Sentiment'])\n",
    "    inputs_large[i] = tokenizer_large(text, return_tensors=\"pt\")\n",
    "    outputs_large[i] = model2(**inputs_large[i])"
   ]
  },
  {
   "cell_type": "code",
   "execution_count": 11,
   "metadata": {},
   "outputs": [
    {
     "data": {
      "text/plain": [
       "torch.Size([16, 345, 345])"
      ]
     },
     "execution_count": 11,
     "metadata": {},
     "output_type": "execute_result"
    }
   ],
   "source": [
    "# outputs[i]     -> the i-th data i get\n",
    "#        [0~3]   -> 0:n個詞的vector, 1:attention的vector, 2: hidden的vector, 3:attention對於每一層中每個字和上一個字的分布情況\n",
    "#        [0~12]  -> 如果使用hidden，則此層代表訓練模型中的第幾層，沒有使用則忽略此層\n",
    "#        [0]     -> 目前還不知道有甚麼用...\n",
    "#        [0~n-1] -> 第幾個字\n",
    "#        [0~767] -> 第幾維詞向量\n",
    "\n",
    "# outputs[i][2][12][0][0]: 第i組data其第12層hidden state的[CLS]\n",
    "output_attention_large = [0]*data_count\n",
    "for i in range(data_count):\n",
    "    output_attention_large[i] = outputs_large[i].attentions\n",
    "output_attention_large[1][0][0].shape"
   ]
  },
  {
   "cell_type": "code",
   "execution_count": 39,
   "metadata": {},
   "outputs": [
    {
     "data": {
      "text/plain": [
       "torch.Size([1, 207, 1024])"
      ]
     },
     "execution_count": 39,
     "metadata": {},
     "output_type": "execute_result"
    }
   ],
   "source": [
    "outputs_large[0][2][24].shape"
   ]
  },
  {
   "cell_type": "code",
   "execution_count": 86,
   "metadata": {},
   "outputs": [],
   "source": [
    "# base\n",
    "# attention_base[data][layer][length]\n",
    "attention_large = [0]*data_count\n",
    "\n",
    "for data in range(data_count):\n",
    "    count = output_attention_large[data][0][0][0][0].size(dim=0)\n",
    "    attention_large[data] = [0]*24\n",
    "    for layer in range(24):\n",
    "        attention_large[data][layer] = [0]*count\n",
    "        #for i in range(count):      # which word\n",
    "        for j in range(count):  # to which word\n",
    "            for k in range(16): # attention head\n",
    "                attention_large[data][layer][j] += output_attention_large[data][layer][0][k][count-1][j].item()\n",
    "            attention_large[data][layer][j] /= 16\n",
    "\n"
   ]
  },
  {
   "cell_type": "code",
   "execution_count": 87,
   "metadata": {},
   "outputs": [
    {
     "data": {
      "text/plain": [
       "24"
      ]
     },
     "execution_count": 87,
     "metadata": {},
     "output_type": "execute_result"
    }
   ],
   "source": [
    "len(attention_large[0])"
   ]
  },
  {
   "cell_type": "code",
   "execution_count": 88,
   "metadata": {},
   "outputs": [
    {
     "data": {
      "text/plain": [
       "207"
      ]
     },
     "execution_count": 88,
     "metadata": {},
     "output_type": "execute_result"
    }
   ],
   "source": [
    "len(attention_large[0][0])"
   ]
  },
  {
   "cell_type": "code",
   "execution_count": 110,
   "metadata": {},
   "outputs": [],
   "source": [
    "# calculate the Euclidean distance\n",
    "def EucliDist(A,B):\n",
    "    return math.sqrt(sum([ (a-b)**2 for (a,b) in zip(A,B) ]))\n",
    "\n",
    "outputList = [0]*10\n",
    "for num in range(10):\n",
    "    outputList[num] = [0]*12\n",
    "    for i in range(12):\n",
    "        outputList[num][i] = [0]*24\n",
    "        for j in range(24):        \n",
    "            outputList[num][i][j] = EucliDist(attention_base[num][i], attention_large[num][j])\n"
   ]
  },
  {
   "cell_type": "code",
   "execution_count": 111,
   "metadata": {},
   "outputs": [
    {
     "data": {
      "image/png": "[encoded data removed]",
      "text/plain": [
       "<Figure size 432x288 with 1 Axes>"
      ]
     },
     "metadata": {
      "needs_background": "light"
     },
     "output_type": "display_data"
    }
   ],
   "source": [
    "# now draw the heat map\n",
    "tickX = []\n",
    "tickY = []\n",
    "for i in range(1,25):\n",
    "    tickX.append(i)\n",
    "    if i < 13:\n",
    "        tickY.append(i)\n",
    "\n",
    "for i in range(10):\n",
    "    plt.xlabel('large layers')\n",
    "    plt.ylabel('base layers')\n",
    "    plt.xticks(tickX)\n",
    "    plt.yticks(tickY)\n",
    "    plt.title('Euclidean Distance similiarity of BERT-base and BERT-large')\n",
    "    plt.pcolormesh(outputList[i], cmap='Greens')\n",
    "    plt.savefig('data'+str(i)+'.jpg')"
   ]
  },
  {
   "cell_type": "code",
   "execution_count": 75,
   "metadata": {},
   "outputs": [
    {
     "data": {
      "text/plain": [
       "345"
      ]
     },
     "execution_count": 75,
     "metadata": {},
     "output_type": "execute_result"
    }
   ],
   "source": [
    "output_attention_base[1][0][0][0][0].size(dim=0)"
   ]
  },
  {
   "cell_type": "code",
   "execution_count": 74,
   "metadata": {},
   "outputs": [
    {
     "data": {
      "text/plain": [
       "0.003084070747718215"
      ]
     },
     "execution_count": 74,
     "metadata": {},
     "output_type": "execute_result"
    }
   ],
   "source": [
    "outputs_base[1][3][0][0][0][0][0].item()"
   ]
  }
 ],
 "metadata": {
  "interpreter": {
   "hash": "753c9accf45c5b3551b46b42971a6d8ba651aab73b8d3e1f47de661f9813d591"
  },
  "kernelspec": {
   "display_name": "Python 3.9.6 64-bit",
   "language": "python",
   "name": "python3"
  },
  "language_info": {
   "codemirror_mode": {
    "name": "ipython",
    "version": 3
   },
   "file_extension": ".py",
   "mimetype": "text/x-python",
   "name": "python",
   "nbconvert_exporter": "python",
   "pygments_lexer": "ipython3",
   "version": "3.9.6"
  },
  "orig_nbformat": 4
 },
 "nbformat": 4,
 "nbformat_minor": 2
}
